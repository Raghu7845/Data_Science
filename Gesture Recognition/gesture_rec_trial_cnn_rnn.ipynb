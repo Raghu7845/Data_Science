{
  "nbformat": 4,
  "nbformat_minor": 0,
  "metadata": {
    "kernelspec": {
      "display_name": "Python 3",
      "language": "python",
      "name": "python3"
    },
    "language_info": {
      "codemirror_mode": {
        "name": "ipython",
        "version": 3
      },
      "file_extension": ".py",
      "mimetype": "text/x-python",
      "name": "python",
      "nbconvert_exporter": "python",
      "pygments_lexer": "ipython3",
      "version": "3.6.5"
    },
    "colab": {
      "name": "Neural_Nets_Project_Starter_Code_guarav.ipynb",
      "provenance": [],
      "collapsed_sections": []
    },
    "accelerator": "GPU"
  },
  "cells": [
    {
      "cell_type": "markdown",
      "metadata": {
        "id": "CbgG5aprHZbG"
      },
      "source": [
        "# Gesture Recognition\n",
        "In this group project, you are going to build a 3D Conv model that will be able to predict the 5 gestures correctly. Please import the following libraries to get started."
      ]
    },
    {
      "cell_type": "code",
      "metadata": {
        "colab": {
          "base_uri": "https://localhost:8080/"
        },
        "id": "aiHqdUjADuiR",
        "outputId": "95084509-323b-4d85-86a4-d92081051acf"
      },
      "source": [
        "from google.colab import drive\r\n",
        "drive.mount('/content/gdrive')"
      ],
      "execution_count": null,
      "outputs": [
        {
          "output_type": "stream",
          "text": [
            "Mounted at /content/gdrive\n"
          ],
          "name": "stdout"
        }
      ]
    },
    {
      "cell_type": "code",
      "metadata": {
        "id": "Vce-xIHGHZbN"
      },
      "source": [
        "import numpy as np\n",
        "import os\n",
        "from skimage import io\n",
        "from skimage.transform import rescale, resize, downscale_local_mean\n",
        "from skimage.util import crop\n",
        "\n",
        "import datetime\n",
        "import pytz"
      ],
      "execution_count": null,
      "outputs": []
    },
    {
      "cell_type": "markdown",
      "metadata": {
        "id": "hfvaHeHXHZbO"
      },
      "source": [
        "We set the random seed so that the results don't vary drastically."
      ]
    },
    {
      "cell_type": "code",
      "metadata": {
        "id": "F7JrYB04HZbP"
      },
      "source": [
        "from keras import backend as K\n",
        "import tensorflow as tf\n",
        "\n",
        "from numpy.random import seed\n",
        "seed(23)\n",
        "tf.random.set_seed(23)"
      ],
      "execution_count": null,
      "outputs": []
    },
    {
      "cell_type": "markdown",
      "metadata": {
        "id": "a1m0S_VtHZbP"
      },
      "source": [
        "In this block, you read the folder names for training and validation. You also set the `batch_size` here. Note that you set the batch size in such a way that you are able to use the GPU in full capacity. You keep increasing the batch size until the machine throws an error."
      ]
    },
    {
      "cell_type": "code",
      "metadata": {
        "id": "mpvxcszyHZbP"
      },
      "source": [
        "train_doc = np.random.permutation(open('/content/gdrive/MyDrive/Colab Notebooks/Gesture CS/Project_data/Project_data/train.csv').readlines())\n",
        "val_doc = np.random.permutation(open('/content/gdrive/MyDrive/Colab Notebooks/Gesture CS/Project_data/Project_data/val.csv').readlines())\n",
        "batch_size = 32"
      ],
      "execution_count": null,
      "outputs": []
    },
    {
      "cell_type": "code",
      "metadata": {
        "id": "A6nzmP5EH6ay",
        "colab": {
          "base_uri": "https://localhost:8080/"
        },
        "outputId": "ed02633e-fbaa-4782-9a52-93d8b3a65d9f"
      },
      "source": [
        "train_doc[:3]"
      ],
      "execution_count": null,
      "outputs": [
        {
          "output_type": "execute_result",
          "data": {
            "text/plain": [
              "array(['WIN_20180907_16_56_18_Pro_Stop Gesture_new;Stop Gesture_new;2\\n',\n",
              "       'WIN_20180926_17_27_33_Pro_Right_Swipe_new;Right_Swipe_new;1\\n',\n",
              "       'WIN_20180925_18_26_40_Pro_Thumbs_Down_new;Thumbs_Down_new;3\\n'],\n",
              "      dtype='<U88')"
            ]
          },
          "metadata": {
            "tags": []
          },
          "execution_count": 5
        }
      ]
    },
    {
      "cell_type": "markdown",
      "metadata": {
        "id": "DdaGKRNjimYB"
      },
      "source": [
        "Checking the overall image size."
      ]
    },
    {
      "cell_type": "code",
      "metadata": {
        "colab": {
          "base_uri": "https://localhost:8080/"
        },
        "id": "1lAsyG1ZX-Gp",
        "outputId": "da97b9ea-a94a-423c-a33f-54c81bebbda0"
      },
      "source": [
        "source_path= '/content/gdrive/MyDrive/Colab Notebooks/Gesture CS/Project_data/Project_data/train'\r\n",
        "indi_file= [(source_path + '/' + x.split(';')[0]) for x in train_doc]\r\n",
        "img_shape=[]\r\n",
        "for x in indi_file:\r\n",
        "  imgs= os.listdir(x)\r\n",
        "  for img in imgs:\r\n",
        "    im= io.imread(x+'/'+ img)\r\n",
        "    img_shape.append(im.shape)\r\n",
        "    break\r\n",
        "print(set(img_shape))"
      ],
      "execution_count": null,
      "outputs": [
        {
          "output_type": "stream",
          "text": [
            "{(120, 160, 3), (360, 360, 3)}\n"
          ],
          "name": "stdout"
        }
      ]
    },
    {
      "cell_type": "markdown",
      "metadata": {
        "id": "QpmiEFkckY6o"
      },
      "source": [
        "As we could visualize there are two type of images\r\n",
        "\r\n",
        "(120,160,3) & (360,360,3)"
      ]
    },
    {
      "cell_type": "markdown",
      "metadata": {
        "id": "gaPXT0FTiqsv"
      },
      "source": [
        "Plotting an image."
      ]
    },
    {
      "cell_type": "code",
      "metadata": {
        "colab": {
          "base_uri": "https://localhost:8080/",
          "height": 286
        },
        "id": "LiIffOxugJ5j",
        "outputId": "6a703a82-d302-463c-a3af-d62fdeb335d1"
      },
      "source": [
        "import matplotlib.pyplot as plt\r\n",
        "imgg= '/content/gdrive/MyDrive/Colab Notebooks/Gesture CS/Project_data/Project_data/train/WIN_20180907_15_35_09_Pro_Right Swipe_new/WIN_20180907_15_35_09_Pro_00064.png'\r\n",
        "pre= io.imread(imgg)\r\n",
        "plt.imshow(pre)\r\n",
        "print(pre.shape)"
      ],
      "execution_count": null,
      "outputs": [
        {
          "output_type": "stream",
          "text": [
            "(360, 360, 3)\n"
          ],
          "name": "stdout"
        },
        {
          "output_type": "display_data",
          "data": {
            "image/png": "[encoded data removed]",
            "text/plain": [
              "<Figure size 432x288 with 1 Axes>"
            ]
          },
          "metadata": {
            "tags": [],
            "needs_background": "light"
          }
        }
      ]
    },
    {
      "cell_type": "markdown",
      "metadata": {
        "id": "dpghuKIJHZbQ"
      },
      "source": [
        "## Generator\n",
        "This is one of the most important part of the code. The overall structure of the generator has been given. In the generator, you are going to preprocess the images as you have images of 2 different dimensions as well as create a batch of video frames. You have to experiment with `img_idx`, `y`,`z` and normalization such that you get high accuracy."
      ]
    },
    {
      "cell_type": "code",
      "metadata": {
        "id": "mBvPivOiHZbQ"
      },
      "source": [
        "img_idx = [0,3,6,9,11,12,15,18,21,24,27,29]\n",
        "def generator(source_path, folder_list, batch_size, ablation=None):\n",
        "    print( 'Source path = ', source_path, '; batch size =', batch_size)\n",
        "    if ablation is not None:\n",
        "      folder_list= folder_list[:(ablation)]\n",
        "    while True:\n",
        "        t = np.random.permutation(folder_list)\n",
        "        x= len(img_idx)\n",
        "        y,z= 120,120\n",
        "        num_batches = int(np.floor(len(t)/batch_size))\n",
        "        for batch in range(num_batches): # we iterate over the number of batches\n",
        "            batch_data = np.zeros((batch_size,x,y,z,3)) # img_idx is the number of images you use for each video, (y,z) is the final size of the input images and 3 is the number of channels RGB\n",
        "            batch_labels = np.zeros((batch_size,5)) # batch_labels is the one hot representation of the output\n",
        "            for folder in range(batch_size): # iterate over the batch_size\n",
        "                imgs = os.listdir(source_path+'/'+ t[folder + (batch*batch_size)].split(';')[0]) # read all the images in the folder\n",
        "                for idx,item in enumerate(img_idx): #  Iterate iver the frames/images of a folder to read them in\n",
        "                    image = io.imread(source_path+'/'+ t[folder + (batch*batch_size)].strip().split(';')[0]+'/'+imgs[item]).astype(np.float32)\n",
        "                    \n",
        "                    #crop the images and resize them. Note that the images are of 2 different shape \n",
        "                    #and the conv3D will throw error if the inputs in a batch have different shapes\n",
        "                    if image.shape== (360,360,3):\n",
        "                      image= crop(image, ((40,20),(30,30),(0,0)),copy=False)\n",
        "                    resized_image= resize(image, (y,z))\n",
        "                    batch_data[folder,idx,:,:,:] = np.float32(resized_image/255)\n",
        "                    #batch_data[folder,idx,:,:,0] = (resized_image[:,:,0] - np.min(resized_image[:,:,0]))/(np.max(resized_image[:,:,0]) - np.min(resized_image[:,:,0]))\n",
        "                    #batch_data[folder,idx,:,:,1] = (resized_image[:,:,1] - np.min(resized_image[:,:,1]))/(np.max(resized_image[:,:,1]) - np.min(resized_image[:,:,1]))\n",
        "                    #batch_data[folder,idx,:,:,2] = (resized_image[:,:,2] - np.min(resized_image[:,:,2]))/(np.max(resized_image[:,:,2]) - np.min(resized_image[:,:,2]))\n",
        "                    \n",
        "                batch_labels[folder, int(t[folder + (batch*batch_size)].strip().split(';')[2])] = 1\n",
        "            yield batch_data, batch_labels #you yield the batch_data and the batch_labels, remember what does yield do\n",
        "        rest_data = len(t) % (batch_size)\n",
        "        batch_data = np.zeros((rest_data,x,y,z,3)) # img_idx is the number of images you use for each video, (y,z) is the final size of the input images and 3 is the number of channels RGB\n",
        "        batch_labels = np.zeros((rest_data,5))\n",
        "        for i in range(rest_data):\n",
        "          imgs= os.listdir(source_path+'/'+ t[-(rest_data-i)].split(';')[0])\n",
        "          for idx,item in enumerate(img_idx):\n",
        "            image = io.imread(source_path+'/'+ t[-(rest_data-i)].strip().split(';')[0]+'/'+imgs[item]).astype(np.float32)\n",
        "            #crop the images and resize them. Note that the images are of 2 different shape \n",
        "            #and the conv3D will throw error if the inputs in a batch have different shapes\n",
        "            if image.shape== (360,360,3):\n",
        "              image= crop(image, ((40,20),(30,30),(0,0)),copy=False)\n",
        "            resized_image= resize(image, (y,z))\n",
        "            batch_data[i,idx,:,:,:] = np.float32(resized_image/255)\n",
        "            #batch_data[i,idx,:,:,0] = (resized_image[:,:,0] - np.min(resized_image[:,:,0]))/(np.max(resized_image[:,:,0]) - np.min(resized_image[:,:,0]))\n",
        "            #batch_data[i,idx,:,:,1] = (resized_image[:,:,1] - np.min(resized_image[:,:,1]))/(np.max(resized_image[:,:,1]) - np.min(resized_image[:,:,1]))\n",
        "            #batch_data[i,idx,:,:,2] = (resized_image[:,:,2] - np.min(resized_image[:,:,2]))/(np.max(resized_image[:,:,2]) - np.min(resized_image[:,:,2]))\n",
        "          batch_labels[i, int(t[-(rest_data-i)].strip().split(';')[2])] = 1\n",
        "          \n",
        "        yield batch_data, batch_labels\n",
        "\n",
        "        # write the code for the remaining data points which are left after full batches\n"
      ],
      "execution_count": null,
      "outputs": []
    },
    {
      "cell_type": "code",
      "metadata": {
        "id": "52cBb_Hh_lP5"
      },
      "source": [
        "train_path = '/content/gdrive/MyDrive/Colab Notebooks/Gesture CS/Project_data/Project_data/train'\r\n",
        "val_path = '/content/gdrive/MyDrive/Colab Notebooks/Gesture CS/Project_data/Project_data/val'"
      ],
      "execution_count": null,
      "outputs": []
    },
    {
      "cell_type": "markdown",
      "metadata": {
        "id": "I4w-VlI_HZbR"
      },
      "source": [
        "Note here that a video is represented above in the generator as (number of images, height, width, number of channels). Take this into consideration while creating the model architecture."
      ]
    },
    {
      "cell_type": "markdown",
      "metadata": {
        "id": "IL9ZxiitHZbV"
      },
      "source": [
        "## Model\n",
        "Here you make the model using different functionalities that Keras provides. Remember to use `Conv3D` and `MaxPooling3D` and not `Conv2D` and `Maxpooling2D` for a 3D convolution model. You would want to use `TimeDistributed` while building a Conv2D + RNN model. Also remember that the last layer is the softmax. Design the network in such a way that the model is able to give good accuracy on the least number of parameters so that it can fit in the memory of the webcam."
      ]
    },
    {
      "cell_type": "code",
      "metadata": {
        "id": "EE6uwWM7th4Q"
      },
      "source": [
        "from keras.models import Sequential, Model\r\n",
        "from keras.layers import Dense, GRU, Flatten, TimeDistributed, Flatten, BatchNormalization, Activation, Reshape, Dropout\r\n",
        "from keras.layers.convolutional import Conv3D, MaxPooling3D, AveragePooling3D, Conv2D, MaxPooling2D\r\n",
        "from keras.callbacks import ModelCheckpoint, ReduceLROnPlateau\r\n",
        "from keras import optimizers\r\n",
        "from keras.applications import ResNet50\r\n",
        "from keras.applications.resnet50 import preprocess_input"
      ],
      "execution_count": null,
      "outputs": []
    },
    {
      "cell_type": "code",
      "metadata": {
        "id": "ggPs6FHChJub"
      },
      "source": [
        "def compile_model(model,epoch=20, ablation=None, learning_rate=0.001, store_model=False):\r\n",
        "  optimiser = optimizers.Adam(learning_rate=learning_rate)\r\n",
        "  model.compile(optimizer=optimiser, loss='categorical_crossentropy', metrics=['categorical_accuracy'])\r\n",
        "  \r\n",
        "  train_generator = generator(train_path, train_doc, batch_size)\r\n",
        "  if ablation is not None:\r\n",
        "    train_generator = generator(train_path, train_doc, batch_size, ablation=ablation)\r\n",
        "  val_generator = generator(val_path, val_doc, batch_size)\r\n",
        "\r\n",
        "  num_train_sequences = len(train_doc)\r\n",
        "  if ablation is not None:\r\n",
        "    num_train_sequences = ablation\r\n",
        "  num_val_sequences = len(val_doc)\r\n",
        "  \r\n",
        "  LR = ReduceLROnPlateau(monitor='val_loss',factor=0.1,patience=2, verbose=0, \r\n",
        "                         mode='auto',min_delta=0.002, cooldown=0,min_lr=0)\r\n",
        "  callbacks_list = [LR]\r\n",
        "\r\n",
        "  if store_model==True:\r\n",
        "    curr_dt_time= datetime.datetime.now(pytz.timezone('Asia/Kolkata'))\r\n",
        "    model_name = '/content/gdrive/MyDrive/Colab Notebooks/Gesture CS/'+'model_init_' + str(curr_dt_time).split('.')[0] + '/'\r\n",
        "    if not os.path.exists(model_name):\r\n",
        "      os.mkdir(model_name)\r\n",
        "      filepath = model_name + 'model-{epoch:05d}-{loss:.5f}-{categorical_accuracy:.5f}-{val_loss:.5f}-{val_categorical_accuracy:.5f}.h5'\r\n",
        "      checkpoint = ModelCheckpoint(filepath, monitor='val_loss', verbose=1, save_best_only=True, save_weights_only=False, mode='auto', save_freq='epoch')\r\n",
        "      callbacks_list= [LR, checkpoint]\r\n",
        "\r\n",
        "\r\n",
        "  if (num_train_sequences%batch_size) == 0:\r\n",
        "    steps_per_epoch = int(num_train_sequences/batch_size)\r\n",
        "  else:\r\n",
        "    steps_per_epoch = int(num_train_sequences//batch_size) + 1\r\n",
        "  if (num_val_sequences%batch_size) == 0:\r\n",
        "    validation_steps = int(num_val_sequences/batch_size)\r\n",
        "  else:\r\n",
        "    validation_steps = int(num_val_sequences//batch_size) + 1\r\n",
        "  \r\n",
        "  model.fit_generator(train_generator, steps_per_epoch=steps_per_epoch, epochs=epoch, verbose=1, \r\n",
        "                    callbacks=callbacks_list, validation_data=val_generator, \r\n",
        "                    validation_steps=validation_steps, workers=1, initial_epoch=0)"
      ],
      "execution_count": null,
      "outputs": []
    },
    {
      "cell_type": "code",
      "metadata": {
        "id": "paUIho7XHZbV",
        "colab": {
          "base_uri": "https://localhost:8080/"
        },
        "outputId": "ca0fe920-e5bc-4d5e-b334-adfc65d815b0"
      },
      "source": [
        "num_class=5\n",
        "\n",
        "model= Sequential()\n",
        "model.add(Conv3D(64, (3,3,3), padding= 'same', activation='relu', input_shape= (len(img_idx),120,120,3)))\n",
        "model.add(BatchNormalization())\n",
        "model.add(Conv3D(64, (3,3,3), padding= 'same', activation='relu'))\n",
        "model.add(BatchNormalization())\n",
        "model.add(MaxPooling3D(pool_size=(2,2,2)))\n",
        "\n",
        "model.add(Conv3D(128, (3,3,3), padding= 'same', activation='relu', input_shape= (len(img_idx),120,120,3)))\n",
        "model.add(BatchNormalization())\n",
        "model.add(Conv3D(128, (3,3,3), padding= 'same', activation='relu'))\n",
        "model.add(BatchNormalization())\n",
        "model.add(MaxPooling3D(pool_size=(2,2,2)))\n",
        "\n",
        "model.add(Conv3D(256, (3,3,3), padding= 'same', activation='relu', input_shape= (len(img_idx),120,120,3)))\n",
        "model.add(BatchNormalization())\n",
        "model.add(Conv3D(256, (3,3,3), padding= 'same', activation='relu'))\n",
        "model.add(BatchNormalization())\n",
        "model.add(MaxPooling3D(pool_size=(2,2,2)))\n",
        "\n",
        "model.add(Flatten())\n",
        "model.add(Dense(512, activation= 'relu'))\n",
        "model.add(Dense(num_class, activation='softmax'))\n",
        "\n",
        "print (model.summary())"
      ],
      "execution_count": null,
      "outputs": [
        {
          "output_type": "stream",
          "text": [
            "Model: \"sequential_1\"\n",
            "_________________________________________________________________\n",
            "Layer (type)                 Output Shape              Param #   \n",
            "=================================================================\n",
            "conv3d_6 (Conv3D)            (None, 12, 120, 120, 64)  5248      \n",
            "_________________________________________________________________\n",
            "batch_normalization_6 (Batch (None, 12, 120, 120, 64)  256       \n",
            "_________________________________________________________________\n",
            "conv3d_7 (Conv3D)            (None, 12, 120, 120, 64)  110656    \n",
            "_________________________________________________________________\n",
            "batch_normalization_7 (Batch (None, 12, 120, 120, 64)  256       \n",
            "_________________________________________________________________\n",
            "max_pooling3d_3 (MaxPooling3 (None, 6, 60, 60, 64)     0         \n",
            "_________________________________________________________________\n",
            "conv3d_8 (Conv3D)            (None, 6, 60, 60, 128)    221312    \n",
            "_________________________________________________________________\n",
            "batch_normalization_8 (Batch (None, 6, 60, 60, 128)    512       \n",
            "_________________________________________________________________\n",
            "conv3d_9 (Conv3D)            (None, 6, 60, 60, 128)    442496    \n",
            "_________________________________________________________________\n",
            "batch_normalization_9 (Batch (None, 6, 60, 60, 128)    512       \n",
            "_________________________________________________________________\n",
            "max_pooling3d_4 (MaxPooling3 (None, 3, 30, 30, 128)    0         \n",
            "_________________________________________________________________\n",
            "conv3d_10 (Conv3D)           (None, 3, 30, 30, 256)    884992    \n",
            "_________________________________________________________________\n",
            "batch_normalization_10 (Batc (None, 3, 30, 30, 256)    1024      \n",
            "_________________________________________________________________\n",
            "conv3d_11 (Conv3D)           (None, 3, 30, 30, 256)    1769728   \n",
            "_________________________________________________________________\n",
            "batch_normalization_11 (Batc (None, 3, 30, 30, 256)    1024      \n",
            "_________________________________________________________________\n",
            "max_pooling3d_5 (MaxPooling3 (None, 1, 15, 15, 256)    0         \n",
            "_________________________________________________________________\n",
            "flatten_1 (Flatten)          (None, 57600)             0         \n",
            "_________________________________________________________________\n",
            "dense_2 (Dense)              (None, 512)               29491712  \n",
            "_________________________________________________________________\n",
            "dense_3 (Dense)              (None, 5)                 2565      \n",
            "=================================================================\n",
            "Total params: 32,932,293\n",
            "Trainable params: 32,930,501\n",
            "Non-trainable params: 1,792\n",
            "_________________________________________________________________\n",
            "None\n"
          ],
          "name": "stdout"
        }
      ]
    },
    {
      "cell_type": "markdown",
      "metadata": {
        "id": "G3-PvvWLol7p"
      },
      "source": [
        "We are taking only 100 data points from train dataset in order to know whether our model training is happening or not."
      ]
    },
    {
      "cell_type": "markdown",
      "metadata": {
        "id": "wpytICbfouqc"
      },
      "source": [
        "Let us now fit the model. This will start training the model on only ablation data to check the model is learning or not."
      ]
    },
    {
      "cell_type": "code",
      "metadata": {
        "colab": {
          "base_uri": "https://localhost:8080/"
        },
        "id": "C1VekKFBk5PC",
        "outputId": "8cdd2e80-f929-42a1-8b20-85f259fde97b"
      },
      "source": [
        "compile_model(model, ablation=100, epoch=5)"
      ],
      "execution_count": null,
      "outputs": [
        {
          "output_type": "stream",
          "text": [
            "/usr/local/lib/python3.6/dist-packages/tensorflow/python/keras/engine/training.py:1844: UserWarning: `Model.fit_generator` is deprecated and will be removed in a future version. Please use `Model.fit`, which supports generators.\n",
            "  warnings.warn('`Model.fit_generator` is deprecated and '\n"
          ],
          "name": "stderr"
        },
        {
          "output_type": "stream",
          "text": [
            "Source path =  /content/gdrive/MyDrive/Colab Notebooks/Gesture CS/Project_data/Project_data/train ; batch size = 32\n",
            "Epoch 1/5\n",
            "4/4 [==============================] - ETA: 0s - loss: 66.9728 - categorical_accuracy: 0.2069 Source path =  /content/gdrive/MyDrive/Colab Notebooks/Gesture CS/Project_data/Project_data/val ; batch size = 32\n",
            "4/4 [==============================] - 491s 163s/step - loss: 70.1439 - categorical_accuracy: 0.2175 - val_loss: 627.0288 - val_categorical_accuracy: 0.2100\n",
            "Epoch 2/5\n",
            "4/4 [==============================] - 30s 10s/step - loss: 83.5123 - categorical_accuracy: 0.1555 - val_loss: 10996.7930 - val_categorical_accuracy: 0.2000\n",
            "Epoch 3/5\n",
            "4/4 [==============================] - 29s 9s/step - loss: 16.0776 - categorical_accuracy: 0.4230 - val_loss: 18155.1133 - val_categorical_accuracy: 0.2400\n",
            "Epoch 4/5\n",
            "4/4 [==============================] - 26s 8s/step - loss: 7.9608 - categorical_accuracy: 0.5613 - val_loss: 9183.2939 - val_categorical_accuracy: 0.1900\n",
            "Epoch 5/5\n",
            "4/4 [==============================] - 29s 9s/step - loss: 6.0951 - categorical_accuracy: 0.6015 - val_loss: 5457.7808 - val_categorical_accuracy: 0.1800\n"
          ],
          "name": "stdout"
        }
      ]
    },
    {
      "cell_type": "markdown",
      "metadata": {
        "id": "Ji38iLtnoQZO"
      },
      "source": [
        "Now will run the model with entire dataset with 20 epochs."
      ]
    },
    {
      "cell_type": "code",
      "metadata": {
        "id": "yZPcTaDXtIeO",
        "colab": {
          "base_uri": "https://localhost:8080/"
        },
        "outputId": "10c35f03-dac8-46b5-d2ad-794e51bea474"
      },
      "source": [
        "num_class=5\r\n",
        "\r\n",
        "model= Sequential()\r\n",
        "model.add(Conv3D(32, (3,3,3), padding= 'same', activation='relu', input_shape= (len(img_idx),120,120,3)))\r\n",
        "model.add(BatchNormalization())\r\n",
        "model.add(Conv3D(32, (3,3,3), padding= 'same', activation='relu'))\r\n",
        "model.add(BatchNormalization())\r\n",
        "model.add(MaxPooling3D(pool_size=(2,2,2)))\r\n",
        "\r\n",
        "model.add(Conv3D(64, (3,3,3), padding= 'same', activation='relu', input_shape= (len(img_idx),120,120,3)))\r\n",
        "model.add(BatchNormalization())\r\n",
        "model.add(Conv3D(64, (3,3,3), padding= 'same', activation='relu'))\r\n",
        "model.add(BatchNormalization())\r\n",
        "model.add(MaxPooling3D(pool_size=(2,2,2)))\r\n",
        "\r\n",
        "model.add(Conv3D(128, (3,3,3), padding= 'same', activation='relu', input_shape= (len(img_idx),120,120,3)))\r\n",
        "model.add(BatchNormalization())\r\n",
        "model.add(Conv3D(128, (3,3,3), padding= 'same', activation='relu'))\r\n",
        "model.add(BatchNormalization())\r\n",
        "model.add(MaxPooling3D(pool_size=(2,2,2)))\r\n",
        "\r\n",
        "model.add(Flatten())\r\n",
        "model.add(Dense(512, activation= 'relu'))\r\n",
        "model.add(Dense(num_class, activation='softmax'))\r\n",
        "\r\n",
        "print (model.summary())"
      ],
      "execution_count": null,
      "outputs": [
        {
          "output_type": "stream",
          "text": [
            "Model: \"sequential_2\"\n",
            "_________________________________________________________________\n",
            "Layer (type)                 Output Shape              Param #   \n",
            "=================================================================\n",
            "conv3d_12 (Conv3D)           (None, 12, 120, 120, 32)  2624      \n",
            "_________________________________________________________________\n",
            "batch_normalization_12 (Batc (None, 12, 120, 120, 32)  128       \n",
            "_________________________________________________________________\n",
            "conv3d_13 (Conv3D)           (None, 12, 120, 120, 32)  27680     \n",
            "_________________________________________________________________\n",
            "batch_normalization_13 (Batc (None, 12, 120, 120, 32)  128       \n",
            "_________________________________________________________________\n",
            "max_pooling3d_6 (MaxPooling3 (None, 6, 60, 60, 32)     0         \n",
            "_________________________________________________________________\n",
            "conv3d_14 (Conv3D)           (None, 6, 60, 60, 64)     55360     \n",
            "_________________________________________________________________\n",
            "batch_normalization_14 (Batc (None, 6, 60, 60, 64)     256       \n",
            "_________________________________________________________________\n",
            "conv3d_15 (Conv3D)           (None, 6, 60, 60, 64)     110656    \n",
            "_________________________________________________________________\n",
            "batch_normalization_15 (Batc (None, 6, 60, 60, 64)     256       \n",
            "_________________________________________________________________\n",
            "max_pooling3d_7 (MaxPooling3 (None, 3, 30, 30, 64)     0         \n",
            "_________________________________________________________________\n",
            "conv3d_16 (Conv3D)           (None, 3, 30, 30, 128)    221312    \n",
            "_________________________________________________________________\n",
            "batch_normalization_16 (Batc (None, 3, 30, 30, 128)    512       \n",
            "_________________________________________________________________\n",
            "conv3d_17 (Conv3D)           (None, 3, 30, 30, 128)    442496    \n",
            "_________________________________________________________________\n",
            "batch_normalization_17 (Batc (None, 3, 30, 30, 128)    512       \n",
            "_________________________________________________________________\n",
            "max_pooling3d_8 (MaxPooling3 (None, 1, 15, 15, 128)    0         \n",
            "_________________________________________________________________\n",
            "flatten_2 (Flatten)          (None, 28800)             0         \n",
            "_________________________________________________________________\n",
            "dense_4 (Dense)              (None, 512)               14746112  \n",
            "_________________________________________________________________\n",
            "dense_5 (Dense)              (None, 5)                 2565      \n",
            "=================================================================\n",
            "Total params: 15,610,597\n",
            "Trainable params: 15,609,701\n",
            "Non-trainable params: 896\n",
            "_________________________________________________________________\n",
            "None\n"
          ],
          "name": "stdout"
        }
      ]
    },
    {
      "cell_type": "code",
      "metadata": {
        "id": "-eTySyC_HZbY",
        "colab": {
          "base_uri": "https://localhost:8080/"
        },
        "outputId": "ef139698-77cc-4ab4-8abe-66671b8e5829"
      },
      "source": [
        "compile_model(model, epoch=20, store_model=True)"
      ],
      "execution_count": null,
      "outputs": [
        {
          "output_type": "stream",
          "text": [
            "/usr/local/lib/python3.6/dist-packages/tensorflow/python/keras/engine/training.py:1844: UserWarning: `Model.fit_generator` is deprecated and will be removed in a future version. Please use `Model.fit`, which supports generators.\n",
            "  warnings.warn('`Model.fit_generator` is deprecated and '\n"
          ],
          "name": "stderr"
        },
        {
          "output_type": "stream",
          "text": [
            "Source path =  /content/gdrive/MyDrive/Colab Notebooks/Gesture CS/Project_data/Project_data/train ; batch size = 32\n",
            "Epoch 1/20\n",
            "21/21 [==============================] - ETA: 0s - loss: 26.0119 - categorical_accuracy: 0.2992Source path =  /content/gdrive/MyDrive/Colab Notebooks/Gesture CS/Project_data/Project_data/val ; batch size = 32\n",
            "21/21 [==============================] - 99s 5s/step - loss: 25.5032 - categorical_accuracy: 0.3020 - val_loss: 732.1545 - val_categorical_accuracy: 0.2100\n",
            "\n",
            "Epoch 00001: val_loss improved from inf to 732.15454, saving model to /content/gdrive/MyDrive/Colab Notebooks/Gesture CS/model_init_2021-01-30 01:41:47/model-00001-14.82004-0.36048-732.15454-0.21000.h5\n",
            "Epoch 2/20\n",
            "21/21 [==============================] - 95s 5s/step - loss: 1.6901 - categorical_accuracy: 0.5018 - val_loss: 158.0536 - val_categorical_accuracy: 0.1800\n",
            "\n",
            "Epoch 00002: val_loss improved from 732.15454 to 158.05363, saving model to /content/gdrive/MyDrive/Colab Notebooks/Gesture CS/model_init_2021-01-30 01:41:47/model-00002-1.44145-0.52338-158.05363-0.18000.h5\n",
            "Epoch 3/20\n",
            "21/21 [==============================] - 96s 5s/step - loss: 0.8735 - categorical_accuracy: 0.6739 - val_loss: 49.1853 - val_categorical_accuracy: 0.2400\n",
            "\n",
            "Epoch 00003: val_loss improved from 158.05363 to 49.18532, saving model to /content/gdrive/MyDrive/Colab Notebooks/Gesture CS/model_init_2021-01-30 01:41:47/model-00003-0.86028-0.66817-49.18532-0.24000.h5\n",
            "Epoch 4/20\n",
            "21/21 [==============================] - 91s 5s/step - loss: 0.6200 - categorical_accuracy: 0.7581 - val_loss: 20.5263 - val_categorical_accuracy: 0.2000\n",
            "\n",
            "Epoch 00004: val_loss improved from 49.18532 to 20.52634, saving model to /content/gdrive/MyDrive/Colab Notebooks/Gesture CS/model_init_2021-01-30 01:41:47/model-00004-0.59669-0.77074-20.52634-0.20000.h5\n",
            "Epoch 5/20\n",
            "21/21 [==============================] - 95s 5s/step - loss: 0.4261 - categorical_accuracy: 0.8472 - val_loss: 10.0190 - val_categorical_accuracy: 0.2100\n",
            "\n",
            "Epoch 00005: val_loss improved from 20.52634 to 10.01904, saving model to /content/gdrive/MyDrive/Colab Notebooks/Gesture CS/model_init_2021-01-30 01:41:47/model-00005-0.44185-0.83710-10.01904-0.21000.h5\n",
            "Epoch 6/20\n",
            "21/21 [==============================] - 96s 5s/step - loss: 0.2763 - categorical_accuracy: 0.9185 - val_loss: 11.6240 - val_categorical_accuracy: 0.1900\n",
            "\n",
            "Epoch 00006: val_loss did not improve from 10.01904\n",
            "Epoch 7/20\n",
            "21/21 [==============================] - 94s 5s/step - loss: 0.2262 - categorical_accuracy: 0.9265 - val_loss: 8.3846 - val_categorical_accuracy: 0.2100\n",
            "\n",
            "Epoch 00007: val_loss improved from 10.01904 to 8.38463, saving model to /content/gdrive/MyDrive/Colab Notebooks/Gesture CS/model_init_2021-01-30 01:41:47/model-00007-0.23769-0.91704-8.38463-0.21000.h5\n",
            "Epoch 8/20\n",
            "21/21 [==============================] - 90s 4s/step - loss: 0.1909 - categorical_accuracy: 0.9115 - val_loss: 7.7980 - val_categorical_accuracy: 0.2000\n",
            "\n",
            "Epoch 00008: val_loss improved from 8.38463 to 7.79795, saving model to /content/gdrive/MyDrive/Colab Notebooks/Gesture CS/model_init_2021-01-30 01:41:47/model-00008-0.18518-0.92760-7.79795-0.20000.h5\n",
            "Epoch 9/20\n",
            "21/21 [==============================] - 95s 5s/step - loss: 0.1740 - categorical_accuracy: 0.9304 - val_loss: 11.1894 - val_categorical_accuracy: 0.2100\n",
            "\n",
            "Epoch 00009: val_loss did not improve from 7.79795\n",
            "Epoch 10/20\n",
            "21/21 [==============================] - 95s 5s/step - loss: 0.1004 - categorical_accuracy: 0.9714 - val_loss: 9.3079 - val_categorical_accuracy: 0.2000\n",
            "\n",
            "Epoch 00010: val_loss did not improve from 7.79795\n",
            "Epoch 11/20\n",
            "21/21 [==============================] - 94s 5s/step - loss: 0.0926 - categorical_accuracy: 0.9663 - val_loss: 8.0015 - val_categorical_accuracy: 0.2600\n",
            "\n",
            "Epoch 00011: val_loss did not improve from 7.79795\n",
            "Epoch 12/20\n",
            "21/21 [==============================] - 91s 4s/step - loss: 0.0501 - categorical_accuracy: 0.9912 - val_loss: 7.5238 - val_categorical_accuracy: 0.2700\n",
            "\n",
            "Epoch 00012: val_loss improved from 7.79795 to 7.52378, saving model to /content/gdrive/MyDrive/Colab Notebooks/Gesture CS/model_init_2021-01-30 01:41:47/model-00012-0.04163-0.99548-7.52378-0.27000.h5\n",
            "Epoch 13/20\n",
            "21/21 [==============================] - 94s 5s/step - loss: 0.0341 - categorical_accuracy: 0.9980 - val_loss: 7.0421 - val_categorical_accuracy: 0.2900\n",
            "\n",
            "Epoch 00013: val_loss improved from 7.52378 to 7.04208, saving model to /content/gdrive/MyDrive/Colab Notebooks/Gesture CS/model_init_2021-01-30 01:41:47/model-00013-0.03617-0.99849-7.04208-0.29000.h5\n",
            "Epoch 14/20\n",
            "21/21 [==============================] - 94s 5s/step - loss: 0.0377 - categorical_accuracy: 0.9953 - val_loss: 6.4401 - val_categorical_accuracy: 0.2700\n",
            "\n",
            "Epoch 00014: val_loss improved from 7.04208 to 6.44005, saving model to /content/gdrive/MyDrive/Colab Notebooks/Gesture CS/model_init_2021-01-30 01:41:47/model-00014-0.03503-0.99548-6.44005-0.27000.h5\n",
            "Epoch 15/20\n",
            "21/21 [==============================] - 95s 5s/step - loss: 0.0331 - categorical_accuracy: 1.0000 - val_loss: 6.8551 - val_categorical_accuracy: 0.2600\n",
            "\n",
            "Epoch 00015: val_loss did not improve from 6.44005\n",
            "Epoch 16/20\n",
            "21/21 [==============================] - 92s 5s/step - loss: 0.0313 - categorical_accuracy: 1.0000 - val_loss: 5.4243 - val_categorical_accuracy: 0.3500\n",
            "\n",
            "Epoch 00016: val_loss improved from 6.44005 to 5.42428, saving model to /content/gdrive/MyDrive/Colab Notebooks/Gesture CS/model_init_2021-01-30 01:41:47/model-00016-0.03058-1.00000-5.42428-0.35000.h5\n",
            "Epoch 17/20\n",
            "21/21 [==============================] - 94s 5s/step - loss: 0.0226 - categorical_accuracy: 1.0000 - val_loss: 4.9862 - val_categorical_accuracy: 0.3600\n",
            "\n",
            "Epoch 00017: val_loss improved from 5.42428 to 4.98623, saving model to /content/gdrive/MyDrive/Colab Notebooks/Gesture CS/model_init_2021-01-30 01:41:47/model-00017-0.02320-1.00000-4.98623-0.36000.h5\n",
            "Epoch 18/20\n",
            "21/21 [==============================] - 96s 5s/step - loss: 0.0304 - categorical_accuracy: 0.9984 - val_loss: 4.4815 - val_categorical_accuracy: 0.4200\n",
            "\n",
            "Epoch 00018: val_loss improved from 4.98623 to 4.48147, saving model to /content/gdrive/MyDrive/Colab Notebooks/Gesture CS/model_init_2021-01-30 01:41:47/model-00018-0.03387-0.99698-4.48147-0.42000.h5\n",
            "Epoch 19/20\n",
            "21/21 [==============================] - 95s 5s/step - loss: 0.0310 - categorical_accuracy: 1.0000 - val_loss: 4.1277 - val_categorical_accuracy: 0.4100\n",
            "\n",
            "Epoch 00019: val_loss improved from 4.48147 to 4.12770, saving model to /content/gdrive/MyDrive/Colab Notebooks/Gesture CS/model_init_2021-01-30 01:41:47/model-00019-0.02851-1.00000-4.12770-0.41000.h5\n",
            "Epoch 20/20\n",
            "21/21 [==============================] - 92s 5s/step - loss: 0.0244 - categorical_accuracy: 0.9984 - val_loss: 3.8338 - val_categorical_accuracy: 0.4200\n",
            "\n",
            "Epoch 00020: val_loss improved from 4.12770 to 3.83377, saving model to /content/gdrive/MyDrive/Colab Notebooks/Gesture CS/model_init_2021-01-30 01:41:47/model-00020-0.02302-0.99849-3.83377-0.42000.h5\n"
          ],
          "name": "stdout"
        },
        {
          "output_type": "execute_result",
          "data": {
            "text/plain": [
              "<tensorflow.python.keras.callbacks.History at 0x7ff1fa086588>"
            ]
          },
          "metadata": {
            "tags": []
          },
          "execution_count": 71
        }
      ]
    },
    {
      "cell_type": "markdown",
      "metadata": {
        "id": "3Gf7kTC5j7kj"
      },
      "source": [
        "Let us run the model with Averagepooling rather than Max pooling."
      ]
    },
    {
      "cell_type": "code",
      "metadata": {
        "id": "xBfyNWGP4geu",
        "colab": {
          "base_uri": "https://localhost:8080/"
        },
        "outputId": "2243dbef-e7b9-4a91-e893-61a0ec1eafef"
      },
      "source": [
        "num_class=5\r\n",
        "\r\n",
        "model= Sequential()\r\n",
        "model.add(Conv3D(16, (3,3,3), padding= 'same', activation='relu', input_shape= (len(img_idx),120,120,3)))\r\n",
        "model.add(BatchNormalization())\r\n",
        "model.add(Conv3D(16, (3,3,3), padding= 'same', activation='relu'))\r\n",
        "model.add(BatchNormalization())\r\n",
        "model.add(AveragePooling3D(pool_size=(2,2,2)))\r\n",
        "model.add(Dropout(0.25))\r\n",
        "\r\n",
        "model.add(Conv3D(64, (3,3,3), padding= 'same', activation='relu', input_shape= (len(img_idx),120,120,3)))\r\n",
        "model.add(BatchNormalization())\r\n",
        "model.add(Conv3D(64, (3,3,3), padding= 'same', activation='relu'))\r\n",
        "model.add(BatchNormalization())\r\n",
        "model.add(AveragePooling3D(pool_size=(2,2,2)))\r\n",
        "model.add(Dropout(0.25))\r\n",
        "\r\n",
        "model.add(Conv3D(128, (3,3,3), padding= 'same', activation='relu', input_shape= (len(img_idx),120,120,3)))\r\n",
        "model.add(BatchNormalization())\r\n",
        "model.add(Conv3D(128, (3,3,3), padding= 'same', activation='relu'))\r\n",
        "model.add(BatchNormalization())\r\n",
        "model.add(AveragePooling3D(pool_size=(2,2,2)))\r\n",
        "model.add(Dropout(0.25))\r\n",
        "\r\n",
        "model.add(Flatten())\r\n",
        "model.add(Dense(1024, activation= 'relu'))\r\n",
        "model.add(Dropout(0.4))\r\n",
        "model.add(Dense(num_class, activation='softmax'))\r\n",
        "\r\n",
        "print (model.summary())"
      ],
      "execution_count": null,
      "outputs": [
        {
          "output_type": "stream",
          "text": [
            "Model: \"sequential_3\"\n",
            "_________________________________________________________________\n",
            "Layer (type)                 Output Shape              Param #   \n",
            "=================================================================\n",
            "conv3d_18 (Conv3D)           (None, 12, 120, 120, 16)  1312      \n",
            "_________________________________________________________________\n",
            "batch_normalization_18 (Batc (None, 12, 120, 120, 16)  64        \n",
            "_________________________________________________________________\n",
            "conv3d_19 (Conv3D)           (None, 12, 120, 120, 16)  6928      \n",
            "_________________________________________________________________\n",
            "batch_normalization_19 (Batc (None, 12, 120, 120, 16)  64        \n",
            "_________________________________________________________________\n",
            "average_pooling3d (AveragePo (None, 6, 60, 60, 16)     0         \n",
            "_________________________________________________________________\n",
            "dropout (Dropout)            (None, 6, 60, 60, 16)     0         \n",
            "_________________________________________________________________\n",
            "conv3d_20 (Conv3D)           (None, 6, 60, 60, 64)     27712     \n",
            "_________________________________________________________________\n",
            "batch_normalization_20 (Batc (None, 6, 60, 60, 64)     256       \n",
            "_________________________________________________________________\n",
            "conv3d_21 (Conv3D)           (None, 6, 60, 60, 64)     110656    \n",
            "_________________________________________________________________\n",
            "batch_normalization_21 (Batc (None, 6, 60, 60, 64)     256       \n",
            "_________________________________________________________________\n",
            "average_pooling3d_1 (Average (None, 3, 30, 30, 64)     0         \n",
            "_________________________________________________________________\n",
            "dropout_1 (Dropout)          (None, 3, 30, 30, 64)     0         \n",
            "_________________________________________________________________\n",
            "conv3d_22 (Conv3D)           (None, 3, 30, 30, 128)    221312    \n",
            "_________________________________________________________________\n",
            "batch_normalization_22 (Batc (None, 3, 30, 30, 128)    512       \n",
            "_________________________________________________________________\n",
            "conv3d_23 (Conv3D)           (None, 3, 30, 30, 128)    442496    \n",
            "_________________________________________________________________\n",
            "batch_normalization_23 (Batc (None, 3, 30, 30, 128)    512       \n",
            "_________________________________________________________________\n",
            "average_pooling3d_2 (Average (None, 1, 15, 15, 128)    0         \n",
            "_________________________________________________________________\n",
            "dropout_2 (Dropout)          (None, 1, 15, 15, 128)    0         \n",
            "_________________________________________________________________\n",
            "flatten_3 (Flatten)          (None, 28800)             0         \n",
            "_________________________________________________________________\n",
            "dense_6 (Dense)              (None, 1024)              29492224  \n",
            "_________________________________________________________________\n",
            "dropout_3 (Dropout)          (None, 1024)              0         \n",
            "_________________________________________________________________\n",
            "dense_7 (Dense)              (None, 5)                 5125      \n",
            "=================================================================\n",
            "Total params: 30,309,429\n",
            "Trainable params: 30,308,597\n",
            "Non-trainable params: 832\n",
            "_________________________________________________________________\n",
            "None\n"
          ],
          "name": "stdout"
        }
      ]
    },
    {
      "cell_type": "code",
      "metadata": {
        "colab": {
          "base_uri": "https://localhost:8080/"
        },
        "id": "WLNXk-Tb2jMi",
        "outputId": "0354d8f2-640e-46a7-994d-954ae1422252"
      },
      "source": [
        "compile_model(model, epoch=20)"
      ],
      "execution_count": null,
      "outputs": [
        {
          "output_type": "stream",
          "text": [
            "/usr/local/lib/python3.6/dist-packages/tensorflow/python/keras/engine/training.py:1844: UserWarning: `Model.fit_generator` is deprecated and will be removed in a future version. Please use `Model.fit`, which supports generators.\n",
            "  warnings.warn('`Model.fit_generator` is deprecated and '\n"
          ],
          "name": "stderr"
        },
        {
          "output_type": "stream",
          "text": [
            "Epoch 1/20\n",
            "21/21 [==============================] - ETA: 0s - loss: 9.2998 - categorical_accuracy: 0.3070  Source path =  /content/gdrive/MyDrive/Colab Notebooks/Gesture CS/Project_data/Project_data/val ; batch size = 32\n",
            "21/21 [==============================] - 2360s 117s/step - loss: 9.2072 - categorical_accuracy: 0.3086 - val_loss: 15.5596 - val_categorical_accuracy: 0.2500\n",
            "Epoch 2/20\n",
            "21/21 [==============================] - 92s 5s/step - loss: 1.7640 - categorical_accuracy: 0.4231 - val_loss: 8.8267 - val_categorical_accuracy: 0.2900\n",
            "Epoch 3/20\n",
            "21/21 [==============================] - 90s 4s/step - loss: 1.0911 - categorical_accuracy: 0.5337 - val_loss: 1.4608 - val_categorical_accuracy: 0.3900\n",
            "Epoch 4/20\n",
            "21/21 [==============================] - 89s 4s/step - loss: 0.9668 - categorical_accuracy: 0.5843 - val_loss: 1.6219 - val_categorical_accuracy: 0.3500\n",
            "Epoch 5/20\n",
            "21/21 [==============================] - 90s 4s/step - loss: 0.6923 - categorical_accuracy: 0.7356 - val_loss: 1.8074 - val_categorical_accuracy: 0.3400\n",
            "Epoch 6/20\n",
            "21/21 [==============================] - 92s 5s/step - loss: 0.5317 - categorical_accuracy: 0.8287 - val_loss: 1.5900 - val_categorical_accuracy: 0.4600\n",
            "Epoch 7/20\n",
            "21/21 [==============================] - 92s 5s/step - loss: 0.4526 - categorical_accuracy: 0.8431 - val_loss: 1.8150 - val_categorical_accuracy: 0.3800\n",
            "Epoch 8/20\n",
            "21/21 [==============================] - 89s 4s/step - loss: 0.3938 - categorical_accuracy: 0.8661 - val_loss: 1.8669 - val_categorical_accuracy: 0.3800\n",
            "Epoch 9/20\n",
            "21/21 [==============================] - 94s 5s/step - loss: 0.3893 - categorical_accuracy: 0.8764 - val_loss: 1.8514 - val_categorical_accuracy: 0.3800\n",
            "Epoch 10/20\n",
            "21/21 [==============================] - 91s 4s/step - loss: 0.3943 - categorical_accuracy: 0.8586 - val_loss: 1.9432 - val_categorical_accuracy: 0.3700\n",
            "Epoch 11/20\n",
            "21/21 [==============================] - 93s 5s/step - loss: 0.3588 - categorical_accuracy: 0.8790 - val_loss: 1.8081 - val_categorical_accuracy: 0.4200\n",
            "Epoch 12/20\n",
            "21/21 [==============================] - 88s 4s/step - loss: 0.3845 - categorical_accuracy: 0.8609 - val_loss: 1.7998 - val_categorical_accuracy: 0.4400\n",
            "Epoch 13/20\n",
            "21/21 [==============================] - 92s 5s/step - loss: 0.3753 - categorical_accuracy: 0.8613 - val_loss: 1.7223 - val_categorical_accuracy: 0.4400\n",
            "Epoch 14/20\n",
            "21/21 [==============================] - 90s 4s/step - loss: 0.3801 - categorical_accuracy: 0.8711 - val_loss: 1.8429 - val_categorical_accuracy: 0.4300\n",
            "Epoch 15/20\n",
            "21/21 [==============================] - 91s 5s/step - loss: 0.3540 - categorical_accuracy: 0.8789 - val_loss: 1.6368 - val_categorical_accuracy: 0.4500\n",
            "Epoch 16/20\n",
            "21/21 [==============================] - 88s 4s/step - loss: 0.4022 - categorical_accuracy: 0.8616 - val_loss: 1.6989 - val_categorical_accuracy: 0.4800\n",
            "Epoch 17/20\n",
            "21/21 [==============================] - 92s 5s/step - loss: 0.3923 - categorical_accuracy: 0.8646 - val_loss: 1.5538 - val_categorical_accuracy: 0.5100\n",
            "Epoch 18/20\n",
            "21/21 [==============================] - 91s 4s/step - loss: 0.3672 - categorical_accuracy: 0.8561 - val_loss: 1.6327 - val_categorical_accuracy: 0.5500\n",
            "Epoch 19/20\n",
            "21/21 [==============================] - 92s 5s/step - loss: 0.4156 - categorical_accuracy: 0.8472 - val_loss: 1.5176 - val_categorical_accuracy: 0.5800\n",
            "Epoch 20/20\n",
            "21/21 [==============================] - 87s 4s/step - loss: 0.3521 - categorical_accuracy: 0.8737 - val_loss: 1.4272 - val_categorical_accuracy: 0.5800\n"
          ],
          "name": "stdout"
        },
        {
          "output_type": "execute_result",
          "data": {
            "text/plain": [
              "<tensorflow.python.keras.callbacks.History at 0x7f8bb0377550>"
            ]
          },
          "metadata": {
            "tags": []
          },
          "execution_count": 21
        }
      ]
    },
    {
      "cell_type": "markdown",
      "metadata": {
        "id": "Y__onuX30N_0"
      },
      "source": [
        "Now let's build a CNN+RNN model using ResNet architecture."
      ]
    },
    {
      "cell_type": "code",
      "metadata": {
        "id": "65mVbC7yHZbY",
        "colab": {
          "base_uri": "https://localhost:8080/"
        },
        "outputId": "60163aeb-2890-4ef6-a042-55d50ac1ae86"
      },
      "source": [
        "num_class=5\r\n",
        "\r\n",
        "# Get base model: ResNet50 \r\n",
        "base_model = ResNet50(weights='imagenet', include_top=False, input_shape= (120,120,3))\r\n",
        "    \r\n",
        "# freeze the layers in base model\r\n",
        "for layer in base_model.layers:\r\n",
        "  layer.trainable = False\r\n",
        "\r\n",
        "model= Sequential()\r\n",
        "model.add(TimeDistributed(base_model, input_shape=(len(img_idx),120,120,3)))\r\n",
        "model.add(TimeDistributed(Flatten()))\r\n",
        "model.add(GRU(256, return_sequences=True))\r\n",
        "model.add(Flatten())\r\n",
        "model.add(Dense(128))\r\n",
        "model.add(Dense(num_class, activation='softmax'))\r\n",
        "\r\n",
        "print (model.summary())"
      ],
      "execution_count": null,
      "outputs": [
        {
          "output_type": "stream",
          "text": [
            "Downloading data from https://storage.googleapis.com/tensorflow/keras-applications/resnet/resnet50_weights_tf_dim_ordering_tf_kernels_notop.h5\n",
            "94773248/94765736 [==============================] - 1s 0us/step\n",
            "Model: \"sequential_4\"\n",
            "_________________________________________________________________\n",
            "Layer (type)                 Output Shape              Param #   \n",
            "=================================================================\n",
            "time_distributed (TimeDistri (None, 12, 4, 4, 2048)    23587712  \n",
            "_________________________________________________________________\n",
            "time_distributed_1 (TimeDist (None, 12, 32768)         0         \n",
            "_________________________________________________________________\n",
            "gru (GRU)                    (None, 12, 256)           25363968  \n",
            "_________________________________________________________________\n",
            "flatten_5 (Flatten)          (None, 3072)              0         \n",
            "_________________________________________________________________\n",
            "dense_8 (Dense)              (None, 128)               393344    \n",
            "_________________________________________________________________\n",
            "dense_9 (Dense)              (None, 5)                 645       \n",
            "=================================================================\n",
            "Total params: 49,345,669\n",
            "Trainable params: 25,757,957\n",
            "Non-trainable params: 23,587,712\n",
            "_________________________________________________________________\n",
            "None\n"
          ],
          "name": "stdout"
        }
      ]
    },
    {
      "cell_type": "code",
      "metadata": {
        "id": "1hhytHadMLW3",
        "colab": {
          "base_uri": "https://localhost:8080/"
        },
        "outputId": "e84d8d9a-b999-43e1-ad8e-857edc139cd7"
      },
      "source": [
        "compile_model(model, epoch=7, ablation=200 )"
      ],
      "execution_count": null,
      "outputs": [
        {
          "output_type": "stream",
          "text": [
            "/usr/local/lib/python3.6/dist-packages/tensorflow/python/keras/engine/training.py:1844: UserWarning: `Model.fit_generator` is deprecated and will be removed in a future version. Please use `Model.fit`, which supports generators.\n",
            "  warnings.warn('`Model.fit_generator` is deprecated and '\n"
          ],
          "name": "stderr"
        },
        {
          "output_type": "stream",
          "text": [
            "Source path =  /content/gdrive/MyDrive/Colab Notebooks/Gesture CS/Project_data/Project_data/train ; batch size = 32\n",
            "Epoch 1/7\n",
            "7/7 [==============================] - ETA: 0s - loss: 8.8865 - categorical_accuracy: 0.2199Source path =  /content/gdrive/MyDrive/Colab Notebooks/Gesture CS/Project_data/Project_data/val ; batch size = 32\n",
            "7/7 [==============================] - 44s 7s/step - loss: 8.9734 - categorical_accuracy: 0.2206 - val_loss: 2.4863 - val_categorical_accuracy: 0.2100\n",
            "Epoch 2/7\n",
            "7/7 [==============================] - 38s 6s/step - loss: 4.0136 - categorical_accuracy: 0.1841 - val_loss: 3.1040 - val_categorical_accuracy: 0.2300\n",
            "Epoch 3/7\n",
            "7/7 [==============================] - 37s 6s/step - loss: 3.3923 - categorical_accuracy: 0.1888 - val_loss: 3.2470 - val_categorical_accuracy: 0.2100\n",
            "Epoch 4/7\n",
            "7/7 [==============================] - 34s 6s/step - loss: 3.6895 - categorical_accuracy: 0.2282 - val_loss: 2.7638 - val_categorical_accuracy: 0.1800\n",
            "Epoch 5/7\n",
            "7/7 [==============================] - 38s 6s/step - loss: 2.3836 - categorical_accuracy: 0.2507 - val_loss: 2.0845 - val_categorical_accuracy: 0.2100\n",
            "Epoch 6/7\n",
            "7/7 [==============================] - 37s 6s/step - loss: 1.8709 - categorical_accuracy: 0.2303 - val_loss: 1.6923 - val_categorical_accuracy: 0.1600\n",
            "Epoch 7/7\n",
            "7/7 [==============================] - 37s 6s/step - loss: 1.6870 - categorical_accuracy: 0.2138 - val_loss: 1.5608 - val_categorical_accuracy: 0.1500\n"
          ],
          "name": "stdout"
        },
        {
          "output_type": "execute_result",
          "data": {
            "text/plain": [
              "<tensorflow.python.keras.callbacks.History at 0x7f892cbb8c50>"
            ]
          },
          "metadata": {
            "tags": []
          },
          "execution_count": 35
        }
      ]
    },
    {
      "cell_type": "markdown",
      "metadata": {
        "id": "pvI1dvcTfQVp"
      },
      "source": [
        "Now when the model is running fine, we will try different parametres to boost the accuracy"
      ]
    },
    {
      "cell_type": "markdown",
      "metadata": {
        "id": "2ZpmI70GfeAJ"
      },
      "source": [
        "We start with the below architecture with intentionally skipping the save model callback."
      ]
    },
    {
      "cell_type": "code",
      "metadata": {
        "id": "Rhfm8v8u0s8z",
        "colab": {
          "base_uri": "https://localhost:8080/"
        },
        "outputId": "c9cd2f40-cd44-4c81-9289-eb9e24035980"
      },
      "source": [
        "num_class=5\r\n",
        "\r\n",
        "# Get base model: ResNet50 \r\n",
        "base_model = ResNet50(weights='imagenet', include_top=False, input_shape= (120,120,3))\r\n",
        "    \r\n",
        "# freeze the layers in base model\r\n",
        "for layer in base_model.layers:\r\n",
        "  layer.trainable = False\r\n",
        "\r\n",
        "model= Sequential()\r\n",
        "model.add(TimeDistributed(base_model, input_shape=(len(img_idx),120,120,3)))\r\n",
        "model.add(TimeDistributed(Flatten()))\r\n",
        "model.add(GRU(1024, return_sequences=True))\r\n",
        "model.add(GRU(1024, return_sequences=False))\r\n",
        "model.add(Dense(512))\r\n",
        "model.add(Dense(num_class, activation='softmax'))\r\n",
        "\r\n",
        "print (model.summary())"
      ],
      "execution_count": null,
      "outputs": [
        {
          "output_type": "stream",
          "text": [
            "Model: \"sequential_5\"\n",
            "_________________________________________________________________\n",
            "Layer (type)                 Output Shape              Param #   \n",
            "=================================================================\n",
            "time_distributed_2 (TimeDist (None, 12, 4, 4, 2048)    23587712  \n",
            "_________________________________________________________________\n",
            "time_distributed_3 (TimeDist (None, 12, 32768)         0         \n",
            "_________________________________________________________________\n",
            "gru_1 (GRU)                  (None, 12, 1024)          103815168 \n",
            "_________________________________________________________________\n",
            "gru_2 (GRU)                  (None, 1024)              6297600   \n",
            "_________________________________________________________________\n",
            "dense_10 (Dense)             (None, 512)               524800    \n",
            "_________________________________________________________________\n",
            "dense_11 (Dense)             (None, 5)                 2565      \n",
            "=================================================================\n",
            "Total params: 134,227,845\n",
            "Trainable params: 110,640,133\n",
            "Non-trainable params: 23,587,712\n",
            "_________________________________________________________________\n",
            "None\n"
          ],
          "name": "stdout"
        }
      ]
    },
    {
      "cell_type": "markdown",
      "metadata": {
        "id": "BOnhdUVDf6kO"
      },
      "source": [
        "Now we will run the model for 20 epochs."
      ]
    },
    {
      "cell_type": "code",
      "metadata": {
        "colab": {
          "base_uri": "https://localhost:8080/"
        },
        "id": "XmRG6twm1ZHa",
        "outputId": "4023aa37-d4b5-47bf-d11d-9ce9d66a8aab"
      },
      "source": [
        "compile_model(model, epoch=20)"
      ],
      "execution_count": null,
      "outputs": [
        {
          "output_type": "stream",
          "text": [
            "/usr/local/lib/python3.6/dist-packages/tensorflow/python/keras/engine/training.py:1844: UserWarning: `Model.fit_generator` is deprecated and will be removed in a future version. Please use `Model.fit`, which supports generators.\n",
            "  warnings.warn('`Model.fit_generator` is deprecated and '\n"
          ],
          "name": "stderr"
        },
        {
          "output_type": "stream",
          "text": [
            "Source path =  /content/gdrive/MyDrive/Colab Notebooks/Gesture CS/Project_data/Project_data/train ; batch size = 32\n",
            "Epoch 1/20\n",
            "21/21 [==============================] - ETA: 0s - loss: 7.7081 - categorical_accuracy: 0.2095Source path =  /content/gdrive/MyDrive/Colab Notebooks/Gesture CS/Project_data/Project_data/val ; batch size = 32\n",
            "21/21 [==============================] - 98s 5s/step - loss: 7.6492 - categorical_accuracy: 0.2099 - val_loss: 3.4170 - val_categorical_accuracy: 0.2200\n",
            "Epoch 2/20\n",
            "21/21 [==============================] - 90s 4s/step - loss: 2.6766 - categorical_accuracy: 0.1937 - val_loss: 2.1922 - val_categorical_accuracy: 0.1900\n",
            "Epoch 3/20\n",
            "21/21 [==============================] - 89s 4s/step - loss: 2.0718 - categorical_accuracy: 0.2054 - val_loss: 1.9693 - val_categorical_accuracy: 0.1200\n",
            "Epoch 4/20\n",
            "21/21 [==============================] - 86s 4s/step - loss: 1.8474 - categorical_accuracy: 0.2119 - val_loss: 1.6605 - val_categorical_accuracy: 0.3000\n",
            "Epoch 5/20\n",
            "21/21 [==============================] - 89s 4s/step - loss: 1.8075 - categorical_accuracy: 0.2034 - val_loss: 2.2659 - val_categorical_accuracy: 0.1600\n",
            "Epoch 6/20\n",
            "21/21 [==============================] - 88s 4s/step - loss: 1.8472 - categorical_accuracy: 0.2203 - val_loss: 1.5018 - val_categorical_accuracy: 0.3700\n",
            "Epoch 7/20\n",
            "21/21 [==============================] - 88s 4s/step - loss: 1.6939 - categorical_accuracy: 0.3120 - val_loss: 1.5219 - val_categorical_accuracy: 0.3300\n",
            "Epoch 8/20\n",
            "21/21 [==============================] - 86s 4s/step - loss: 1.5497 - categorical_accuracy: 0.3345 - val_loss: 1.7134 - val_categorical_accuracy: 0.2100\n",
            "Epoch 9/20\n",
            "21/21 [==============================] - 88s 4s/step - loss: 1.5634 - categorical_accuracy: 0.3063 - val_loss: 1.3908 - val_categorical_accuracy: 0.3100\n",
            "Epoch 10/20\n",
            "21/21 [==============================] - 89s 4s/step - loss: 1.4111 - categorical_accuracy: 0.3425 - val_loss: 1.3705 - val_categorical_accuracy: 0.3900\n",
            "Epoch 11/20\n",
            "21/21 [==============================] - 89s 4s/step - loss: 1.3542 - categorical_accuracy: 0.3785 - val_loss: 1.4624 - val_categorical_accuracy: 0.3000\n",
            "Epoch 12/20\n",
            "21/21 [==============================] - 86s 4s/step - loss: 1.4004 - categorical_accuracy: 0.3506 - val_loss: 1.4369 - val_categorical_accuracy: 0.3000\n",
            "Epoch 13/20\n",
            "21/21 [==============================] - 88s 4s/step - loss: 1.3779 - categorical_accuracy: 0.3451 - val_loss: 1.3583 - val_categorical_accuracy: 0.3600\n",
            "Epoch 14/20\n",
            "21/21 [==============================] - 90s 4s/step - loss: 1.3326 - categorical_accuracy: 0.3672 - val_loss: 1.3916 - val_categorical_accuracy: 0.4000\n",
            "Epoch 15/20\n",
            "21/21 [==============================] - 89s 4s/step - loss: 1.3663 - categorical_accuracy: 0.3687 - val_loss: 1.2825 - val_categorical_accuracy: 0.4100\n",
            "Epoch 16/20\n",
            "21/21 [==============================] - 85s 4s/step - loss: 1.3592 - categorical_accuracy: 0.3670 - val_loss: 1.3510 - val_categorical_accuracy: 0.3700\n",
            "Epoch 17/20\n",
            "21/21 [==============================] - 89s 4s/step - loss: 1.3389 - categorical_accuracy: 0.3821 - val_loss: 1.3575 - val_categorical_accuracy: 0.3600\n",
            "Epoch 18/20\n",
            "21/21 [==============================] - 88s 4s/step - loss: 1.3595 - categorical_accuracy: 0.3867 - val_loss: 1.3644 - val_categorical_accuracy: 0.3500\n",
            "Epoch 19/20\n",
            "21/21 [==============================] - 90s 4s/step - loss: 1.3637 - categorical_accuracy: 0.3776 - val_loss: 1.3726 - val_categorical_accuracy: 0.3800\n",
            "Epoch 20/20\n",
            "21/21 [==============================] - 86s 4s/step - loss: 1.3430 - categorical_accuracy: 0.3864 - val_loss: 1.3573 - val_categorical_accuracy: 0.3800\n"
          ],
          "name": "stdout"
        },
        {
          "output_type": "execute_result",
          "data": {
            "text/plain": [
              "<tensorflow.python.keras.callbacks.History at 0x7f89280e4438>"
            ]
          },
          "metadata": {
            "tags": []
          },
          "execution_count": 42
        }
      ]
    },
    {
      "cell_type": "markdown",
      "metadata": {
        "id": "-h8o0q3vmuJz"
      },
      "source": [
        "Now we will try with a different architecture as the above model accuracy is very low."
      ]
    },
    {
      "cell_type": "code",
      "metadata": {
        "id": "t5hvbRqI22re",
        "colab": {
          "base_uri": "https://localhost:8080/"
        },
        "outputId": "9c8b2a68-6e91-4669-f0c4-db0b44ccb426"
      },
      "source": [
        "num_class=5\r\n",
        "\r\n",
        "# Get base model: ResNet50 \r\n",
        "base_model = ResNet50(weights='imagenet', include_top=False, input_shape= (120,120,3))\r\n",
        "    \r\n",
        "# freeze the layers in base model\r\n",
        "for layer in base_model.layers:\r\n",
        "  layer.trainable = False\r\n",
        "\r\n",
        "model= Sequential()\r\n",
        "model.add(TimeDistributed(base_model, input_shape=(len(img_idx),120,120,3)))\r\n",
        "model.add(TimeDistributed(Flatten()))\r\n",
        "model.add(GRU(2048, return_sequences=True))\r\n",
        "model.add(Dense(1024))\r\n",
        "model.add(Flatten())\r\n",
        "model.add(Dense(num_class, activation='softmax'))\r\n",
        "\r\n",
        "print (model.summary())"
      ],
      "execution_count": null,
      "outputs": [
        {
          "output_type": "stream",
          "text": [
            "Model: \"sequential_6\"\n",
            "_________________________________________________________________\n",
            "Layer (type)                 Output Shape              Param #   \n",
            "=================================================================\n",
            "time_distributed_4 (TimeDist (None, 12, 4, 4, 2048)    23587712  \n",
            "_________________________________________________________________\n",
            "time_distributed_5 (TimeDist (None, 12, 32768)         0         \n",
            "_________________________________________________________________\n",
            "gru_3 (GRU)                  (None, 12, 2048)          213921792 \n",
            "_________________________________________________________________\n",
            "dense_12 (Dense)             (None, 12, 1024)          2098176   \n",
            "_________________________________________________________________\n",
            "flatten_8 (Flatten)          (None, 12288)             0         \n",
            "_________________________________________________________________\n",
            "dense_13 (Dense)             (None, 5)                 61445     \n",
            "=================================================================\n",
            "Total params: 239,669,125\n",
            "Trainable params: 216,081,413\n",
            "Non-trainable params: 23,587,712\n",
            "_________________________________________________________________\n",
            "None\n"
          ],
          "name": "stdout"
        }
      ]
    },
    {
      "cell_type": "code",
      "metadata": {
        "colab": {
          "base_uri": "https://localhost:8080/"
        },
        "id": "I2OgnlW4dHcE",
        "outputId": "5af5c804-d5a1-4956-946a-5b647c8211c8"
      },
      "source": [
        "compile_model(model)"
      ],
      "execution_count": null,
      "outputs": [
        {
          "output_type": "stream",
          "text": [
            "/usr/local/lib/python3.6/dist-packages/tensorflow/python/keras/engine/training.py:1844: UserWarning: `Model.fit_generator` is deprecated and will be removed in a future version. Please use `Model.fit`, which supports generators.\n",
            "  warnings.warn('`Model.fit_generator` is deprecated and '\n"
          ],
          "name": "stderr"
        },
        {
          "output_type": "stream",
          "text": [
            "Source path =  /content/gdrive/MyDrive/Colab Notebooks/Gesture CS/Project_data/Project_data/train ; batch size = 32\n",
            "Epoch 1/20\n",
            "21/21 [==============================] - ETA: 0s - loss: 15.5044 - categorical_accuracy: 0.2369Source path =  /content/gdrive/MyDrive/Colab Notebooks/Gesture CS/Project_data/Project_data/val ; batch size = 32\n",
            "21/21 [==============================] - 97s 5s/step - loss: 15.3634 - categorical_accuracy: 0.2356 - val_loss: 3.4242 - val_categorical_accuracy: 0.1600\n",
            "Epoch 2/20\n",
            "21/21 [==============================] - 90s 4s/step - loss: 3.2244 - categorical_accuracy: 0.2068 - val_loss: 2.3837 - val_categorical_accuracy: 0.1100\n",
            "Epoch 3/20\n",
            "21/21 [==============================] - 91s 5s/step - loss: 2.0765 - categorical_accuracy: 0.2084 - val_loss: 1.9744 - val_categorical_accuracy: 0.2100\n",
            "Epoch 4/20\n",
            "21/21 [==============================] - 87s 4s/step - loss: 1.8449 - categorical_accuracy: 0.2210 - val_loss: 1.5358 - val_categorical_accuracy: 0.3400\n",
            "Epoch 5/20\n",
            "21/21 [==============================] - 90s 4s/step - loss: 1.5410 - categorical_accuracy: 0.2710 - val_loss: 1.4327 - val_categorical_accuracy: 0.3400\n",
            "Epoch 6/20\n",
            "21/21 [==============================] - 90s 4s/step - loss: 1.4686 - categorical_accuracy: 0.3402 - val_loss: 1.4322 - val_categorical_accuracy: 0.3600\n",
            "Epoch 7/20\n",
            "21/21 [==============================] - 91s 5s/step - loss: 1.4427 - categorical_accuracy: 0.3394 - val_loss: 1.4351 - val_categorical_accuracy: 0.3100\n",
            "Epoch 8/20\n",
            "21/21 [==============================] - 88s 4s/step - loss: 1.3766 - categorical_accuracy: 0.4353 - val_loss: 1.3409 - val_categorical_accuracy: 0.3900\n",
            "Epoch 9/20\n",
            "21/21 [==============================] - 89s 4s/step - loss: 1.3712 - categorical_accuracy: 0.4203 - val_loss: 1.4089 - val_categorical_accuracy: 0.3900\n",
            "Epoch 10/20\n",
            "21/21 [==============================] - 91s 5s/step - loss: 1.4116 - categorical_accuracy: 0.3539 - val_loss: 1.3254 - val_categorical_accuracy: 0.4500\n",
            "Epoch 11/20\n",
            "21/21 [==============================] - 90s 4s/step - loss: 1.2827 - categorical_accuracy: 0.4424 - val_loss: 1.4071 - val_categorical_accuracy: 0.3500\n",
            "Epoch 12/20\n",
            "21/21 [==============================] - 87s 4s/step - loss: 1.2777 - categorical_accuracy: 0.4656 - val_loss: 1.3308 - val_categorical_accuracy: 0.3700\n",
            "Epoch 13/20\n",
            "21/21 [==============================] - 90s 4s/step - loss: 1.2860 - categorical_accuracy: 0.4368 - val_loss: 1.2835 - val_categorical_accuracy: 0.4400\n",
            "Epoch 14/20\n",
            "21/21 [==============================] - 90s 4s/step - loss: 1.2166 - categorical_accuracy: 0.4826 - val_loss: 1.3416 - val_categorical_accuracy: 0.5100\n",
            "Epoch 15/20\n",
            "21/21 [==============================] - 91s 5s/step - loss: 1.2216 - categorical_accuracy: 0.4962 - val_loss: 1.4737 - val_categorical_accuracy: 0.3300\n",
            "Epoch 16/20\n",
            "21/21 [==============================] - 87s 4s/step - loss: 1.2372 - categorical_accuracy: 0.4616 - val_loss: 1.2295 - val_categorical_accuracy: 0.4800\n",
            "Epoch 17/20\n",
            "21/21 [==============================] - 90s 4s/step - loss: 1.1925 - categorical_accuracy: 0.4930 - val_loss: 1.2301 - val_categorical_accuracy: 0.5600\n",
            "Epoch 18/20\n",
            "21/21 [==============================] - 90s 4s/step - loss: 1.1489 - categorical_accuracy: 0.5471 - val_loss: 1.3472 - val_categorical_accuracy: 0.4300\n",
            "Epoch 19/20\n",
            "21/21 [==============================] - 90s 4s/step - loss: 1.1050 - categorical_accuracy: 0.5746 - val_loss: 1.1697 - val_categorical_accuracy: 0.4700\n",
            "Epoch 20/20\n",
            "21/21 [==============================] - 87s 4s/step - loss: 1.1884 - categorical_accuracy: 0.5126 - val_loss: 1.1524 - val_categorical_accuracy: 0.5700\n"
          ],
          "name": "stdout"
        },
        {
          "output_type": "execute_result",
          "data": {
            "text/plain": [
              "<tensorflow.python.keras.callbacks.History at 0x7f89258e01d0>"
            ]
          },
          "metadata": {
            "tags": []
          },
          "execution_count": 50
        }
      ]
    },
    {
      "cell_type": "code",
      "metadata": {
        "id": "UZz9Ve6AdTmA"
      },
      "source": [
        ""
      ],
      "execution_count": null,
      "outputs": []
    },
    {
      "cell_type": "code",
      "metadata": {
        "id": "avD0tQ2g9c2w",
        "colab": {
          "base_uri": "https://localhost:8080/"
        },
        "outputId": "f8d5abe0-37d5-4c4f-9795-f08ae4286779"
      },
      "source": [
        "num_class=5\r\n",
        "\r\n",
        "# Get base model: ResNet50 \r\n",
        "base_model = ResNet50(weights='imagenet', include_top=False, input_shape= (120,120,3))\r\n",
        "    \r\n",
        "# freeze the layers in base model\r\n",
        "for layer in base_model.layers:\r\n",
        "  layer.trainable = False\r\n",
        "\r\n",
        "model= Sequential()\r\n",
        "model.add(TimeDistributed(base_model, input_shape=(len(img_idx),120,120,3)))\r\n",
        "model.add(TimeDistributed(Flatten()))\r\n",
        "model.add(GRU(2048, return_sequences=True))\r\n",
        "model.add(GRU(2048, return_sequences=False))\r\n",
        "model.add(Dense(1024))\r\n",
        "model.add(Dense(num_class, activation='softmax'))\r\n",
        "\r\n",
        "print (model.summary())"
      ],
      "execution_count": null,
      "outputs": [
        {
          "output_type": "stream",
          "text": [
            "Model: \"sequential_7\"\n",
            "_________________________________________________________________\n",
            "Layer (type)                 Output Shape              Param #   \n",
            "=================================================================\n",
            "time_distributed_6 (TimeDist (None, 12, 4, 4, 2048)    23587712  \n",
            "_________________________________________________________________\n",
            "time_distributed_7 (TimeDist (None, 12, 32768)         0         \n",
            "_________________________________________________________________\n",
            "gru_4 (GRU)                  (None, 12, 2048)          213921792 \n",
            "_________________________________________________________________\n",
            "gru_5 (GRU)                  (None, 2048)              25178112  \n",
            "_________________________________________________________________\n",
            "dense_14 (Dense)             (None, 1024)              2098176   \n",
            "_________________________________________________________________\n",
            "dense_15 (Dense)             (None, 5)                 5125      \n",
            "=================================================================\n",
            "Total params: 264,790,917\n",
            "Trainable params: 241,203,205\n",
            "Non-trainable params: 23,587,712\n",
            "_________________________________________________________________\n",
            "None\n"
          ],
          "name": "stdout"
        }
      ]
    },
    {
      "cell_type": "code",
      "metadata": {
        "colab": {
          "base_uri": "https://localhost:8080/"
        },
        "id": "Bzu7AgSI91QR",
        "outputId": "ca9c717b-4ac6-4cbb-eed1-75ed7cf88a99"
      },
      "source": [
        "compile_model(model)"
      ],
      "execution_count": null,
      "outputs": [
        {
          "output_type": "stream",
          "text": [
            "/usr/local/lib/python3.6/dist-packages/tensorflow/python/keras/engine/training.py:1844: UserWarning: `Model.fit_generator` is deprecated and will be removed in a future version. Please use `Model.fit`, which supports generators.\n",
            "  warnings.warn('`Model.fit_generator` is deprecated and '\n"
          ],
          "name": "stderr"
        },
        {
          "output_type": "stream",
          "text": [
            "Source path =  /content/gdrive/MyDrive/Colab Notebooks/Gesture CS/Project_data/Project_data/train ; batch size = 32\n",
            "Epoch 1/20\n",
            "21/21 [==============================] - ETA: 0s - loss: 17.3443 - categorical_accuracy: 0.2079Source path =  /content/gdrive/MyDrive/Colab Notebooks/Gesture CS/Project_data/Project_data/val ; batch size = 32\n",
            "21/21 [==============================] - 98s 5s/step - loss: 17.2078 - categorical_accuracy: 0.2082 - val_loss: 3.3721 - val_categorical_accuracy: 0.2200\n",
            "Epoch 2/20\n",
            "21/21 [==============================] - 90s 4s/step - loss: 3.4219 - categorical_accuracy: 0.1590 - val_loss: 3.0992 - val_categorical_accuracy: 0.2000\n",
            "Epoch 3/20\n",
            "21/21 [==============================] - 92s 5s/step - loss: 2.9637 - categorical_accuracy: 0.1807 - val_loss: 2.5347 - val_categorical_accuracy: 0.2000\n",
            "Epoch 4/20\n",
            "21/21 [==============================] - 87s 4s/step - loss: 2.6807 - categorical_accuracy: 0.2345 - val_loss: 3.4231 - val_categorical_accuracy: 0.1700\n",
            "Epoch 5/20\n",
            "21/21 [==============================] - 91s 5s/step - loss: 3.0751 - categorical_accuracy: 0.2288 - val_loss: 3.4021 - val_categorical_accuracy: 0.2300\n",
            "Epoch 6/20\n",
            "21/21 [==============================] - 91s 5s/step - loss: 2.6737 - categorical_accuracy: 0.1841 - val_loss: 1.8046 - val_categorical_accuracy: 0.2100\n",
            "Epoch 7/20\n",
            "21/21 [==============================] - 91s 4s/step - loss: 1.7656 - categorical_accuracy: 0.2013 - val_loss: 1.6827 - val_categorical_accuracy: 0.2100\n",
            "Epoch 8/20\n",
            "21/21 [==============================] - 87s 4s/step - loss: 1.6555 - categorical_accuracy: 0.2016 - val_loss: 1.6489 - val_categorical_accuracy: 0.1900\n",
            "Epoch 9/20\n",
            "21/21 [==============================] - 90s 4s/step - loss: 1.6473 - categorical_accuracy: 0.1916 - val_loss: 1.7143 - val_categorical_accuracy: 0.1600\n",
            "Epoch 10/20\n",
            "21/21 [==============================] - 91s 5s/step - loss: 1.6681 - categorical_accuracy: 0.1783 - val_loss: 1.6767 - val_categorical_accuracy: 0.2200\n",
            "Epoch 11/20\n",
            "21/21 [==============================] - 90s 4s/step - loss: 1.6638 - categorical_accuracy: 0.1861 - val_loss: 1.6078 - val_categorical_accuracy: 0.2200\n",
            "Epoch 12/20\n",
            "21/21 [==============================] - 88s 4s/step - loss: 1.6154 - categorical_accuracy: 0.1936 - val_loss: 1.6041 - val_categorical_accuracy: 0.2200\n",
            "Epoch 13/20\n",
            "21/21 [==============================] - 90s 4s/step - loss: 1.6120 - categorical_accuracy: 0.2055 - val_loss: 1.6100 - val_categorical_accuracy: 0.1800\n",
            "Epoch 14/20\n",
            "21/21 [==============================] - 90s 4s/step - loss: 1.6125 - categorical_accuracy: 0.2144 - val_loss: 1.6066 - val_categorical_accuracy: 0.2300\n",
            "Epoch 15/20\n",
            "21/21 [==============================] - 91s 5s/step - loss: 1.6101 - categorical_accuracy: 0.2133 - val_loss: 1.6106 - val_categorical_accuracy: 0.2100\n",
            "Epoch 16/20\n",
            "21/21 [==============================] - 87s 4s/step - loss: 1.6085 - categorical_accuracy: 0.2006 - val_loss: 1.6054 - val_categorical_accuracy: 0.2200\n",
            "Epoch 17/20\n",
            "21/21 [==============================] - 90s 4s/step - loss: 1.6080 - categorical_accuracy: 0.2284 - val_loss: 1.6076 - val_categorical_accuracy: 0.2100\n",
            "Epoch 18/20\n",
            "21/21 [==============================] - 91s 5s/step - loss: 1.6085 - categorical_accuracy: 0.2079 - val_loss: 1.6069 - val_categorical_accuracy: 0.2300\n",
            "Epoch 19/20\n",
            "21/21 [==============================] - 90s 4s/step - loss: 1.6087 - categorical_accuracy: 0.2421 - val_loss: 1.6044 - val_categorical_accuracy: 0.3200\n",
            "Epoch 20/20\n",
            "21/21 [==============================] - 86s 4s/step - loss: 1.6078 - categorical_accuracy: 0.2575 - val_loss: 1.6074 - val_categorical_accuracy: 0.2600\n"
          ],
          "name": "stdout"
        },
        {
          "output_type": "execute_result",
          "data": {
            "text/plain": [
              "<tensorflow.python.keras.callbacks.History at 0x7f8925935ef0>"
            ]
          },
          "metadata": {
            "tags": []
          },
          "execution_count": 58
        }
      ]
    },
    {
      "cell_type": "markdown",
      "metadata": {
        "id": "sZ4oPISsxdhZ"
      },
      "source": [
        "We will now try with one last model."
      ]
    },
    {
      "cell_type": "code",
      "metadata": {
        "id": "a8TNtgLzX2la"
      },
      "source": [
        ""
      ],
      "execution_count": null,
      "outputs": []
    },
    {
      "cell_type": "code",
      "metadata": {
        "colab": {
          "base_uri": "https://localhost:8080/"
        },
        "id": "9Yp2SRwi1QE4",
        "outputId": "1374e60b-13e3-4921-f0db-a252bfd23fcc"
      },
      "source": [
        "num_class=5\r\n",
        "\r\n",
        "base_model= Sequential()\r\n",
        "base_model.add(Conv2D(32, (3,3), padding= 'same', activation='relu'))\r\n",
        "base_model.add(Conv2D(64, (3,3), padding= 'same', activation='relu'))\r\n",
        "base_model.add(MaxPooling2D(pool_size=(2,2)))\r\n",
        "base_model.add(BatchNormalization())\r\n",
        "base_model.add(Dropout(0.25))\r\n",
        "\r\n",
        "base_model.add(Conv2D(64, (3,3), padding= 'same', activation='relu'))\r\n",
        "base_model.add(Conv2D(64, (3,3), padding= 'same', activation='relu'))\r\n",
        "base_model.add(MaxPooling2D(pool_size=(2,2)))\r\n",
        "base_model.add(BatchNormalization())\r\n",
        "base_model.add(Dropout(0.25))\r\n",
        "\r\n",
        "model= Sequential()\r\n",
        "model.add(TimeDistributed(base_model, input_shape=(len(img_idx),120,120,3)))\r\n",
        "model.add(TimeDistributed(Flatten()))\r\n",
        "model.add(GRU(512, return_sequences=True))\r\n",
        "#model.add(GRU(512, return_sequences=False))\r\n",
        "model.add(Flatten())\r\n",
        "model.add(Dense(256))\r\n",
        "model.add(Dropout(0.4))\r\n",
        "model.add(Dense(num_class, activation='softmax'))\r\n",
        "\r\n",
        "print (model.summary())"
      ],
      "execution_count": null,
      "outputs": [
        {
          "output_type": "stream",
          "text": [
            "Model: \"sequential_19\"\n",
            "_________________________________________________________________\n",
            "Layer (type)                 Output Shape              Param #   \n",
            "=================================================================\n",
            "time_distributed_18 (TimeDis (None, 12, 30, 30, 64)    93760     \n",
            "_________________________________________________________________\n",
            "time_distributed_19 (TimeDis (None, 12, 57600)         0         \n",
            "_________________________________________________________________\n",
            "gru_14 (GRU)                 (None, 12, 512)           89263104  \n",
            "_________________________________________________________________\n",
            "flatten_16 (Flatten)         (None, 6144)              0         \n",
            "_________________________________________________________________\n",
            "dense_24 (Dense)             (None, 256)               1573120   \n",
            "_________________________________________________________________\n",
            "dropout_17 (Dropout)         (None, 256)               0         \n",
            "_________________________________________________________________\n",
            "dense_25 (Dense)             (None, 5)                 1285      \n",
            "=================================================================\n",
            "Total params: 90,931,269\n",
            "Trainable params: 90,931,013\n",
            "Non-trainable params: 256\n",
            "_________________________________________________________________\n",
            "None\n"
          ],
          "name": "stdout"
        }
      ]
    },
    {
      "cell_type": "code",
      "metadata": {
        "colab": {
          "base_uri": "https://localhost:8080/"
        },
        "id": "PwuWL1SvTeUu",
        "outputId": "edb13837-beec-463b-bb29-5304f53db93c"
      },
      "source": [
        "compile_model(model)"
      ],
      "execution_count": null,
      "outputs": [
        {
          "output_type": "stream",
          "text": [
            "/usr/local/lib/python3.6/dist-packages/tensorflow/python/keras/engine/training.py:1844: UserWarning: `Model.fit_generator` is deprecated and will be removed in a future version. Please use `Model.fit`, which supports generators.\n",
            "  warnings.warn('`Model.fit_generator` is deprecated and '\n"
          ],
          "name": "stderr"
        },
        {
          "output_type": "stream",
          "text": [
            "Source path =  /content/gdrive/MyDrive/Colab Notebooks/Gesture CS/Project_data/Project_data/train ; batch size = 32\n",
            "Epoch 1/20\n",
            "21/21 [==============================] - ETA: 0s - loss: 5.4857 - categorical_accuracy: 0.3331Source path =  /content/gdrive/MyDrive/Colab Notebooks/Gesture CS/Project_data/Project_data/val ; batch size = 32\n",
            "21/21 [==============================] - 97s 5s/step - loss: 5.4538 - categorical_accuracy: 0.3344 - val_loss: 14.0932 - val_categorical_accuracy: 0.2400\n",
            "Epoch 2/20\n",
            "21/21 [==============================] - 96s 5s/step - loss: 3.3320 - categorical_accuracy: 0.5080 - val_loss: 7.0793 - val_categorical_accuracy: 0.2800\n",
            "Epoch 3/20\n",
            "21/21 [==============================] - 95s 5s/step - loss: 2.1556 - categorical_accuracy: 0.6092 - val_loss: 8.6924 - val_categorical_accuracy: 0.2000\n",
            "Epoch 4/20\n",
            "21/21 [==============================] - 92s 5s/step - loss: 1.4485 - categorical_accuracy: 0.7199 - val_loss: 7.8818 - val_categorical_accuracy: 0.2300\n",
            "Epoch 5/20\n",
            "21/21 [==============================] - 95s 5s/step - loss: 0.9416 - categorical_accuracy: 0.7604 - val_loss: 7.1052 - val_categorical_accuracy: 0.2600\n",
            "Epoch 6/20\n",
            "21/21 [==============================] - 96s 5s/step - loss: 0.4257 - categorical_accuracy: 0.8742 - val_loss: 7.6810 - val_categorical_accuracy: 0.2600\n",
            "Epoch 7/20\n",
            "21/21 [==============================] - 97s 5s/step - loss: 0.3229 - categorical_accuracy: 0.9014 - val_loss: 6.4141 - val_categorical_accuracy: 0.2900\n",
            "Epoch 8/20\n",
            "21/21 [==============================] - 93s 5s/step - loss: 0.2648 - categorical_accuracy: 0.8991 - val_loss: 5.7021 - val_categorical_accuracy: 0.3200\n",
            "Epoch 9/20\n",
            "21/21 [==============================] - 97s 5s/step - loss: 0.2571 - categorical_accuracy: 0.9027 - val_loss: 4.9208 - val_categorical_accuracy: 0.3600\n",
            "Epoch 10/20\n",
            "21/21 [==============================] - 97s 5s/step - loss: 0.2391 - categorical_accuracy: 0.9197 - val_loss: 4.0465 - val_categorical_accuracy: 0.3700\n",
            "Epoch 11/20\n",
            "21/21 [==============================] - 96s 5s/step - loss: 0.1882 - categorical_accuracy: 0.9267 - val_loss: 3.9740 - val_categorical_accuracy: 0.4300\n",
            "Epoch 12/20\n",
            "21/21 [==============================] - 92s 5s/step - loss: 0.1920 - categorical_accuracy: 0.9270 - val_loss: 3.3818 - val_categorical_accuracy: 0.4900\n",
            "Epoch 13/20\n",
            "21/21 [==============================] - 96s 5s/step - loss: 0.1855 - categorical_accuracy: 0.9214 - val_loss: 3.0390 - val_categorical_accuracy: 0.5200\n",
            "Epoch 14/20\n",
            "21/21 [==============================] - 95s 5s/step - loss: 0.1635 - categorical_accuracy: 0.9531 - val_loss: 2.7269 - val_categorical_accuracy: 0.6100\n",
            "Epoch 15/20\n",
            "21/21 [==============================] - 94s 5s/step - loss: 0.1427 - categorical_accuracy: 0.9430 - val_loss: 3.1046 - val_categorical_accuracy: 0.5100\n",
            "Epoch 16/20\n",
            "21/21 [==============================] - 92s 5s/step - loss: 0.2166 - categorical_accuracy: 0.9257 - val_loss: 2.5239 - val_categorical_accuracy: 0.6200\n",
            "Epoch 17/20\n",
            "21/21 [==============================] - 95s 5s/step - loss: 0.1612 - categorical_accuracy: 0.9508 - val_loss: 2.5451 - val_categorical_accuracy: 0.6000\n",
            "Epoch 18/20\n",
            "21/21 [==============================] - 94s 5s/step - loss: 0.1296 - categorical_accuracy: 0.9556 - val_loss: 2.2046 - val_categorical_accuracy: 0.6400\n",
            "Epoch 19/20\n",
            "21/21 [==============================] - 96s 5s/step - loss: 0.1445 - categorical_accuracy: 0.9559 - val_loss: 2.9870 - val_categorical_accuracy: 0.6200\n",
            "Epoch 20/20\n",
            "21/21 [==============================] - 92s 5s/step - loss: 0.1109 - categorical_accuracy: 0.9507 - val_loss: 2.5042 - val_categorical_accuracy: 0.6200\n"
          ],
          "name": "stdout"
        }
      ]
    },
    {
      "cell_type": "code",
      "metadata": {
        "id": "VXxJYmvnZbRx"
      },
      "source": [
        ""
      ],
      "execution_count": null,
      "outputs": []
    }
  ]
}